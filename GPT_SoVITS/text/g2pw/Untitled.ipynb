{
 "cells": [
  {
   "cell_type": "code",
   "execution_count": 2,
   "id": "f2bdfe4e-0a4b-4146-bb45-98057270c975",
   "metadata": {},
   "outputs": [
    {
     "name": "stdout",
     "output_type": "stream",
     "text": [
      "[Errno 2] No such file or directory: 'GPT_SoVITS/text/'\n",
      "/workspace/GPT-SoVITS/GPT_SoVITS/text/g2pw\n"
     ]
    }
   ],
   "source": [
    "cd GPT_SoVITS/text/"
   ]
  },
  {
   "cell_type": "code",
   "execution_count": 4,
   "id": "ca2eaa38-91b4-42e7-99f4-f462b72734b7",
   "metadata": {},
   "outputs": [
    {
     "data": {
      "text/plain": [
       "'/workspace/GPT-SoVITS/GPT_SoVITS/text'"
      ]
     },
     "execution_count": 4,
     "metadata": {},
     "output_type": "execute_result"
    }
   ],
   "source": [
    "%pwd"
   ]
  },
  {
   "cell_type": "code",
   "execution_count": 5,
   "id": "5c84a5a8-ae5f-4e22-abd7-85b2e0253f80",
   "metadata": {},
   "outputs": [
    {
     "name": "stdout",
     "output_type": "stream",
     "text": [
      "File downloaded successfully: G2PWModel.zip\n"
     ]
    }
   ],
   "source": [
    "import requests\n",
    "\n",
    "def download_file(url, save_path):\n",
    "    response = requests.get(url, stream=True)\n",
    "    if response.status_code == 200:\n",
    "        with open(save_path, 'wb') as file:\n",
    "            for chunk in response.iter_content(1024):\n",
    "                file.write(chunk)\n",
    "        print(f\"File downloaded successfully: {save_path}\")\n",
    "    else:\n",
    "        print(f\"Failed to download file. Status code: {response.status_code}\")\n",
    "\n",
    "# Example usage\n",
    "url = \"https://paddlespeech.bj.bcebos.com/Parakeet/released_models/g2p/G2PWModel_1.1.zip\"  # Replace with your file URL\n",
    "save_path = \"G2PWModel.zip\"  # Replace with your desired save location\n",
    "download_file(url, save_path)\n"
   ]
  },
  {
   "cell_type": "code",
   "execution_count": 6,
   "id": "90099324-7c81-4ac7-a204-868a793b8e25",
   "metadata": {},
   "outputs": [
    {
     "name": "stdout",
     "output_type": "stream",
     "text": [
      "Files extracted to: \n"
     ]
    }
   ],
   "source": [
    "import zipfile\n",
    "\n",
    "def unzip_file(zip_path, extract_to):\n",
    "    with zipfile.ZipFile(zip_path, 'r') as zip_ref:\n",
    "        zip_ref.extractall(extract_to)\n",
    "    print(f\"Files extracted to: {extract_to}\")\n",
    "\n",
    "# Example usage\n",
    "zip_path = \"G2PWModel.zip\"  # Replace with your ZIP file path\n",
    "extract_to = \"\"  # Replace with your desired extraction directory\n",
    "unzip_file(zip_path, extract_to)\n"
   ]
  },
  {
   "cell_type": "code",
   "execution_count": 7,
   "id": "e95348ca-3e46-4abd-8948-8ee42b078aa3",
   "metadata": {},
   "outputs": [
    {
     "name": "stdout",
     "output_type": "stream",
     "text": [
      "Requirement already satisfied: huggingface_hub in /opt/conda/lib/python3.10/site-packages (0.28.1)\n",
      "Requirement already satisfied: filelock in /opt/conda/lib/python3.10/site-packages (from huggingface_hub) (3.13.1)\n",
      "Requirement already satisfied: fsspec>=2023.5.0 in /opt/conda/lib/python3.10/site-packages (from huggingface_hub) (2024.2.0)\n",
      "Requirement already satisfied: packaging>=20.9 in /opt/conda/lib/python3.10/site-packages (from huggingface_hub) (23.1)\n",
      "Requirement already satisfied: pyyaml>=5.1 in /opt/conda/lib/python3.10/site-packages (from huggingface_hub) (6.0.1)\n",
      "Requirement already satisfied: requests in /opt/conda/lib/python3.10/site-packages (from huggingface_hub) (2.32.3)\n",
      "Requirement already satisfied: tqdm>=4.42.1 in /opt/conda/lib/python3.10/site-packages (from huggingface_hub) (4.67.1)\n",
      "Requirement already satisfied: typing-extensions>=3.7.4.3 in /opt/conda/lib/python3.10/site-packages (from huggingface_hub) (4.12.2)\n",
      "Requirement already satisfied: charset-normalizer<4,>=2 in /opt/conda/lib/python3.10/site-packages (from requests->huggingface_hub) (2.0.4)\n",
      "Requirement already satisfied: idna<4,>=2.5 in /opt/conda/lib/python3.10/site-packages (from requests->huggingface_hub) (3.4)\n",
      "Requirement already satisfied: urllib3<3,>=1.21.1 in /opt/conda/lib/python3.10/site-packages (from requests->huggingface_hub) (2.1.0)\n",
      "Requirement already satisfied: certifi>=2017.4.17 in /opt/conda/lib/python3.10/site-packages (from requests->huggingface_hub) (2024.2.2)\n",
      "\u001b[33mWARNING: Running pip as the 'root' user can result in broken permissions and conflicting behaviour with the system package manager. It is recommended to use a virtual environment instead: https://pip.pypa.io/warnings/venv\u001b[0m\u001b[33m\n",
      "Note: you may need to restart the kernel to use updated packages.\n"
     ]
    }
   ],
   "source": [
    "pip install huggingface_hub"
   ]
  },
  {
   "cell_type": "code",
   "execution_count": 8,
   "id": "a54cef07-1afa-4e08-b20b-31f08a348048",
   "metadata": {},
   "outputs": [
    {
     "data": {
      "application/vnd.jupyter.widget-view+json": {
       "model_id": "4635b1311e5f47459096c56eb785e179",
       "version_major": 2,
       "version_minor": 0
      },
      "text/plain": [
       "VBox(children=(HTML(value='<center> <img\\nsrc=https://huggingface.co/front/assets/huggingface_logo-noborder.sv…"
      ]
     },
     "metadata": {},
     "output_type": "display_data"
    }
   ],
   "source": [
    "from huggingface_hub import login\n",
    "login()"
   ]
  },
  {
   "cell_type": "code",
   "execution_count": 9,
   "id": "5139b352-1e0a-4792-9d73-731068b883f2",
   "metadata": {},
   "outputs": [
    {
     "data": {
      "text/plain": [
       "'/workspace/GPT-SoVITS/GPT_SoVITS/text'"
      ]
     },
     "execution_count": 9,
     "metadata": {},
     "output_type": "execute_result"
    }
   ],
   "source": [
    "%pwd"
   ]
  },
  {
   "cell_type": "code",
   "execution_count": 12,
   "id": "ddf95f95-c111-45ce-8840-0e50a1d447a0",
   "metadata": {},
   "outputs": [
    {
     "name": "stdout",
     "output_type": "stream",
     "text": [
      "/workspace\n"
     ]
    }
   ],
   "source": [
    "%cd .."
   ]
  },
  {
   "cell_type": "code",
   "execution_count": 15,
   "id": "28ad1283-89a9-45cd-8545-30297c395cff",
   "metadata": {},
   "outputs": [
    {
     "name": "stdout",
     "output_type": "stream",
     "text": [
      "1739554402.592865.pth       \u001b[0m\u001b[01;34mSoVITS_weights_v2\u001b[0m/   go-webui.bat\n",
      "\u001b[01;34mDocker\u001b[0m/                     \u001b[01;34mSoVITS_weights_v3\u001b[0m/   go-webui.ps1\n",
      "Dockerfile                  \u001b[01;34mTEMP\u001b[0m/                gpt-sovits_kaggle.ipynb\n",
      "\u001b[01;34mGPT_SoVITS\u001b[0m/                 \u001b[01;34m__pycache__\u001b[0m/         install.sh\n",
      "GPT_SoVITS_Inference.ipynb  api.py               \u001b[01;34mlogs\u001b[0m/\n",
      "\u001b[01;34mGPT_weights\u001b[0m/                api_v2.py            \u001b[01;34moutput\u001b[0m/\n",
      "\u001b[01;34mGPT_weights_v2\u001b[0m/             colab_webui.ipynb    requirements.txt\n",
      "\u001b[01;34mGPT_weights_v3\u001b[0m/             config.py            \u001b[01;34mtools\u001b[0m/\n",
      "LICENSE                     docker-compose.yaml  webui.py\n",
      "README.md                   \u001b[01;32mdockerbuild.sh\u001b[0m*      xinghui.wav\n",
      "\u001b[01;34mSoVITS_weights\u001b[0m/             \u001b[01;34mdocs\u001b[0m/\n"
     ]
    }
   ],
   "source": [
    "%ls"
   ]
  },
  {
   "cell_type": "code",
   "execution_count": null,
   "id": "c0d048bd-40e7-42d7-a208-0312058a7a71",
   "metadata": {},
   "outputs": [
    {
     "name": "stderr",
     "output_type": "stream",
     "text": [
      "It seems you are trying to upload a large folder at once. This might take some time and then fail if the folder is too large. For such cases, it is recommended to upload in smaller batches or to use `HfApi().upload_large_folder(...)`/`huggingface-cli upload-large-folder` instead. For more details, check out https://huggingface.co/docs/huggingface_hub/main/en/guides/upload#upload-a-large-folder.\n"
     ]
    },
    {
     "data": {
      "application/vnd.jupyter.widget-view+json": {
       "model_id": "f49da68dfe5744fca37ed69270c59947",
       "version_major": 2,
       "version_minor": 0
      },
      "text/plain": [
       "pytorch_model.bin:   0%|          | 0.00/189M [00:00<?, ?B/s]"
      ]
     },
     "metadata": {},
     "output_type": "display_data"
    },
    {
     "data": {
      "application/vnd.jupyter.widget-view+json": {
       "model_id": "15b2a0c44a624261845e1aa232896f8c",
       "version_major": 2,
       "version_minor": 0
      },
      "text/plain": [
       "s2D2333k.pth:   0%|          | 0.00/93.5M [00:00<?, ?B/s]"
      ]
     },
     "metadata": {},
     "output_type": "display_data"
    },
    {
     "data": {
      "application/vnd.jupyter.widget-view+json": {
       "model_id": "3d1231a49cda48ed9abf58fbd1a08796",
       "version_major": 2,
       "version_minor": 0
      },
      "text/plain": [
       "1739554402.592865.pth:   0%|          | 0.00/678M [00:00<?, ?B/s]"
      ]
     },
     "metadata": {},
     "output_type": "display_data"
    },
    {
     "data": {
      "application/vnd.jupyter.widget-view+json": {
       "model_id": "b5df2430cae643529a42cf2c969c7d14",
       "version_major": 2,
       "version_minor": 0
      },
      "text/plain": [
       "s1bert25hz-5kh-longer-epoch=12-step=369668.ckpt:   0%|          | 0.00/155M [00:00<?, ?B/s]"
      ]
     },
     "metadata": {},
     "output_type": "display_data"
    },
    {
     "data": {
      "application/vnd.jupyter.widget-view+json": {
       "model_id": "02c5d7445ab84929a346d765443f6649",
       "version_major": 2,
       "version_minor": 0
      },
      "text/plain": [
       "Upload 25 LFS files:   0%|          | 0/25 [00:00<?, ?it/s]"
      ]
     },
     "metadata": {},
     "output_type": "display_data"
    },
    {
     "data": {
      "application/vnd.jupyter.widget-view+json": {
       "model_id": "152d0d830e0b4bbb9c54583ba8c7e77a",
       "version_major": 2,
       "version_minor": 0
      },
      "text/plain": [
       "pytorch_model.bin:   0%|          | 0.00/651M [00:00<?, ?B/s]"
      ]
     },
     "metadata": {},
     "output_type": "display_data"
    },
    {
     "data": {
      "application/vnd.jupyter.widget-view+json": {
       "model_id": "53c4d6df21aa407293dae1807e371f07",
       "version_major": 2,
       "version_minor": 0
      },
      "text/plain": [
       "s2G2333k.pth:   0%|          | 0.00/106M [00:00<?, ?B/s]"
      ]
     },
     "metadata": {},
     "output_type": "display_data"
    },
    {
     "data": {
      "application/vnd.jupyter.widget-view+json": {
       "model_id": "6ec8dc32b4e74ef8b144583c1378ef7a",
       "version_major": 2,
       "version_minor": 0
      },
      "text/plain": [
       "bigvgan_generator.pt:   0%|          | 0.00/450M [00:00<?, ?B/s]"
      ]
     },
     "metadata": {},
     "output_type": "display_data"
    },
    {
     "data": {
      "application/vnd.jupyter.widget-view+json": {
       "model_id": "dac7113f683643588c04e8b34778af07",
       "version_major": 2,
       "version_minor": 0
      },
      "text/plain": [
       "s1bert25hz-2kh-longer-epoch=68e-step=50232.ckpt:   0%|          | 0.00/155M [00:00<?, ?B/s]"
      ]
     },
     "metadata": {},
     "output_type": "display_data"
    },
    {
     "data": {
      "application/vnd.jupyter.widget-view+json": {
       "model_id": "36ae94f9f2d24af8ad1b48f3327a0af2",
       "version_major": 2,
       "version_minor": 0
      },
      "text/plain": [
       "s1v3.ckpt:   0%|          | 0.00/155M [00:00<?, ?B/s]"
      ]
     },
     "metadata": {},
     "output_type": "display_data"
    },
    {
     "data": {
      "application/vnd.jupyter.widget-view+json": {
       "model_id": "89c6e58322ae4b00a7fb55b2042aab1f",
       "version_major": 2,
       "version_minor": 0
      },
      "text/plain": [
       "s2D488k.pth:   0%|          | 0.00/93.5M [00:00<?, ?B/s]"
      ]
     },
     "metadata": {},
     "output_type": "display_data"
    },
    {
     "data": {
      "application/vnd.jupyter.widget-view+json": {
       "model_id": "21d2db575814480ab4eee2b54af9ab87",
       "version_major": 2,
       "version_minor": 0
      },
      "text/plain": [
       "s2G488k.pth:   0%|          | 0.00/106M [00:00<?, ?B/s]"
      ]
     },
     "metadata": {},
     "output_type": "display_data"
    },
    {
     "data": {
      "application/vnd.jupyter.widget-view+json": {
       "model_id": "18735159a64d40bc950c8924709331c4",
       "version_major": 2,
       "version_minor": 0
      },
      "text/plain": [
       "s2Gv3.pth:   0%|          | 0.00/769M [00:00<?, ?B/s]"
      ]
     },
     "metadata": {},
     "output_type": "display_data"
    },
    {
     "data": {
      "application/vnd.jupyter.widget-view+json": {
       "model_id": "5be9fdb68de648719d73e651a6069ef5",
       "version_major": 2,
       "version_minor": 0
      },
      "text/plain": [
       "g2pW.onnx:   0%|          | 0.00/635M [00:00<?, ?B/s]"
      ]
     },
     "metadata": {},
     "output_type": "display_data"
    },
    {
     "data": {
      "application/vnd.jupyter.widget-view+json": {
       "model_id": "165001b7fa92418fb0980c905f232806",
       "version_major": 2,
       "version_minor": 0
      },
      "text/plain": [
       "G2PWModel.zip:   0%|          | 0.00/589M [00:00<?, ?B/s]"
      ]
     },
     "metadata": {},
     "output_type": "display_data"
    },
    {
     "data": {
      "application/vnd.jupyter.widget-view+json": {
       "model_id": "c8b7fb1550144e3d801336d448244a8e",
       "version_major": 2,
       "version_minor": 0
      },
      "text/plain": [
       "engdict_cache.pickle:   0%|          | 0.00/5.97M [00:00<?, ?B/s]"
      ]
     },
     "metadata": {},
     "output_type": "display_data"
    },
    {
     "data": {
      "application/vnd.jupyter.widget-view+json": {
       "model_id": "d9023751193a407283245deb320dab19",
       "version_major": 2,
       "version_minor": 0
      },
      "text/plain": [
       "polyphonic.pickle:   0%|          | 0.00/1.32M [00:00<?, ?B/s]"
      ]
     },
     "metadata": {},
     "output_type": "display_data"
    },
    {
     "data": {
      "application/vnd.jupyter.widget-view+json": {
       "model_id": "66017642f9f644a9b248a27479e173bb",
       "version_major": 2,
       "version_minor": 0
      },
      "text/plain": [
       "userdict.csv:   0%|          | 0.00/17.2M [00:00<?, ?B/s]"
      ]
     },
     "metadata": {},
     "output_type": "display_data"
    },
    {
     "data": {
      "application/vnd.jupyter.widget-view+json": {
       "model_id": "5b3623fcdce14a219b40e9077b44a890",
       "version_major": 2,
       "version_minor": 0
      },
      "text/plain": [
       "namedict_cache.pickle:   0%|          | 0.00/761k [00:00<?, ?B/s]"
      ]
     },
     "metadata": {},
     "output_type": "display_data"
    },
    {
     "data": {
      "application/vnd.jupyter.widget-view+json": {
       "model_id": "9785495a63f14fedaad0ab74e67973f4",
       "version_major": 2,
       "version_minor": 0
      },
      "text/plain": [
       "struct.png:   0%|          | 0.00/155k [00:00<?, ?B/s]"
      ]
     },
     "metadata": {},
     "output_type": "display_data"
    },
    {
     "data": {
      "application/vnd.jupyter.widget-view+json": {
       "model_id": "50e51a5ca6164481a0254b12642fae71",
       "version_major": 2,
       "version_minor": 0
      },
      "text/plain": [
       "model.pt:   0%|          | 0.00/292M [00:00<?, ?B/s]"
      ]
     },
     "metadata": {},
     "output_type": "display_data"
    },
    {
     "data": {
      "application/vnd.jupyter.widget-view+json": {
       "model_id": "0c6e73d3f8304c6cbcb79946022969a6",
       "version_major": 2,
       "version_minor": 0
      },
      "text/plain": [
       "vad_example.wav:   0%|          | 0.00/2.26M [00:00<?, ?B/s]"
      ]
     },
     "metadata": {},
     "output_type": "display_data"
    },
    {
     "data": {
      "application/vnd.jupyter.widget-view+json": {
       "model_id": "cb09157567ab4d20b1cede2c2b603167",
       "version_major": 2,
       "version_minor": 0
      },
      "text/plain": [
       "model.pt:   0%|          | 0.00/1.72M [00:00<?, ?B/s]"
      ]
     },
     "metadata": {},
     "output_type": "display_data"
    },
    {
     "data": {
      "application/vnd.jupyter.widget-view+json": {
       "model_id": "9a5512c8d80b477d993cca5548ee52b2",
       "version_major": 2,
       "version_minor": 0
      },
      "text/plain": [
       "asr_example.wav:   0%|          | 0.00/178k [00:00<?, ?B/s]"
      ]
     },
     "metadata": {},
     "output_type": "display_data"
    },
    {
     "data": {
      "application/vnd.jupyter.widget-view+json": {
       "model_id": "70eba2742bca403b80f376baff1a1c78",
       "version_major": 2,
       "version_minor": 0
      },
      "text/plain": [
       "model.pt:   0%|          | 0.00/881M [00:00<?, ?B/s]"
      ]
     },
     "metadata": {},
     "output_type": "display_data"
    },
    {
     "data": {
      "application/vnd.jupyter.widget-view+json": {
       "model_id": "38b6ca20b2fd4c1796a1b30bca8e0840",
       "version_major": 2,
       "version_minor": 0
      },
      "text/plain": [
       "xinghui.wav:   0%|          | 0.00/17.4M [00:00<?, ?B/s]"
      ]
     },
     "metadata": {},
     "output_type": "display_data"
    }
   ],
   "source": [
    "from huggingface_hub import HfApi\n",
    "api = HfApi()\n",
    "\n",
    "api.upload_folder(\n",
    "    folder_path=\"\",\n",
    "    repo_id=\"kevinwang676/GPT-SoVITS-v3\",\n",
    "    repo_type=\"model\",\n",
    ")"
   ]
  },
  {
   "cell_type": "code",
   "execution_count": null,
   "id": "e3926186-66af-43a7-8a76-0f243aca21bd",
   "metadata": {},
   "outputs": [],
   "source": []
  }
 ],
 "metadata": {
  "kernelspec": {
   "display_name": "Python 3 (ipykernel)",
   "language": "python",
   "name": "python3"
  },
  "language_info": {
   "codemirror_mode": {
    "name": "ipython",
    "version": 3
   },
   "file_extension": ".py",
   "mimetype": "text/x-python",
   "name": "python",
   "nbconvert_exporter": "python",
   "pygments_lexer": "ipython3",
   "version": "3.10.13"
  }
 },
 "nbformat": 4,
 "nbformat_minor": 5
}
